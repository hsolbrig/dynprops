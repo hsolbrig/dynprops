{
 "cells": [
  {
   "cell_type": "markdown",
   "metadata": {
    "collapsed": true
   },
   "source": [
    "# dynprops - Python Dynamic Properties\n",
    "Support for complex table and TSV structures\n",
    "\n",
    "## Revision History\n",
    "* 0.0.1 - Initial commit\n",
    "\n",
    "## Introduction\n",
    "The `dynprops` package supports three basic features:\n",
    "* Creation of sets properties that can be emitted in columnar form (tsv, csv, ...) or as dictionaries targeted at SQL tools\n",
    "* Global 'singleton' properties for columns that are invariant over time\n",
    "* \"Dynamic properties\" - properties whose values can either be objects, functions or methods\n",
    "\n",
    "## Requirements\n",
    "* The `dynobject` package requires Python 3.6 or later as it uses the 3.6 annotation features (`var: type [= value]`) \n",
    "\n",
    "## Installation\n"
   ]
  },
  {
   "cell_type": "code",
   "execution_count": 1,
   "metadata": {},
   "outputs": [
    {
     "name": "stdout",
     "output_type": "stream",
     "text": [
      "Collecting pip\n",
      "  Using cached pip-9.0.2-py2.py3-none-any.whl\n",
      "Installing collected packages: pip\n",
      "  Found existing installation: pip 9.0.1\n",
      "    Uninstalling pip-9.0.1:\n",
      "      Successfully uninstalled pip-9.0.1\n",
      "Successfully installed pip-9.0.2\n",
      "Obtaining file:///Users/mrf7578/Development/git/BD2KOnFHIR/dynprops\n",
      "Installing collected packages: dynprops\n",
      "  Found existing installation: dynprops 0.1.0\n",
      "    Uninstalling dynprops-0.1.0:\n",
      "      Successfully uninstalled dynprops-0.1.0\n",
      "  Running setup.py develop for dynprops\n",
      "Successfully installed dynprops\n"
     ]
    }
   ],
   "source": [
    "! pip install -e .."
   ]
  },
  {
   "cell_type": "markdown",
   "metadata": {},
   "source": [
    "## Usage\n",
    "### Declaring properties:\n",
    "\n",
    "Properties are declared as types, using either `Global`, meaning that the property is a singleton or\n",
    "`Local`, meaning that the property can be class or instance level."
   ]
  },
  {
   "cell_type": "code",
   "execution_count": 27,
   "metadata": {
    "collapsed": true
   },
   "outputs": [],
   "source": [
    "from datetime import datetime\n",
    "from dynprops import DynProps, Global, Local, Parent, heading, row, as_dict\n",
    "\n",
    "\n",
    "# The base -- Three global properties - a string, an integer and a date with a dynamic(!) value\n",
    "class BaseElements(DynProps):\n",
    "    key_part1: Global[str]\n",
    "    key_part2: Global[int]\n",
    "    key_part3: Global[datetime] = datetime.now      # Function\n"
   ]
  },
  {
   "cell_type": "markdown",
   "metadata": {},
   "source": [
    "Dynamic properties can be used to generate csv/tsv/?sv headings"
   ]
  },
  {
   "cell_type": "code",
   "execution_count": 28,
   "metadata": {},
   "outputs": [
    {
     "name": "stdout",
     "output_type": "stream",
     "text": [
      "key_part1, key_part2, key_part3\n"
     ]
    }
   ],
   "source": [
    "DynProps._separator = ', '      # Default is tab\n",
    "print(heading(BaseElements))\n"
   ]
  },
  {
   "cell_type": "markdown",
   "metadata": {},
   "source": [
    "An extension to the base with one more global property and two locals\n"
   ]
  },
  {
   "cell_type": "code",
   "execution_count": 29,
   "metadata": {},
   "outputs": [
    {
     "name": "stdout",
     "output_type": "stream",
     "text": [
      "key_part1, key_part2, key_part3, key_part4, val_part1, val_part2\n"
     ]
    }
   ],
   "source": [
    "class ShortTable(BaseElements):\n",
    "    key_part4: Global[str]\n",
    "    val_part1: Local[str] = \"@\"\n",
    "    val_part2: Local[int] = 0\n",
    "\n",
    "    def __init__(self, vp2: int) -> None:\n",
    "        self.val_part2 = vp2\n",
    "print(heading(ShortTable))  "
   ]
  },
  {
   "cell_type": "markdown",
   "metadata": {},
   "source": [
    "We can now set the values of the global components. Globals must be set at the level of the declaring class\n",
    "(i.e. `ShortTable.key_part2 = 1` or `BaseElements().key_part_2 = 1` will not work. \n",
    "\n",
    "The `row` function prints the value of an instance"
   ]
  },
  {
   "cell_type": "code",
   "execution_count": 30,
   "metadata": {},
   "outputs": [
    {
     "name": "stdout",
     "output_type": "stream",
     "text": [
      "\"production run\", 17, 2018-03-17 15:01:04.665801, , \"Unit\", 3\n",
      "\"production run\", 17, 2018-03-17 15:01:04.667213, , \"Unit\", 4\n"
     ]
    }
   ],
   "source": [
    "BaseElements.key_part1 = \"production run\"\n",
    "BaseElements.key_part2 = 17\n",
    "\n",
    "ShortTable.val_part1 = \"Unit\"\n",
    "print(row(ShortTable(3)))\n",
    "print(row(ShortTable(4)))"
   ]
  },
  {
   "cell_type": "markdown",
   "metadata": {},
   "source": [
    "Note that `key_part_3` is a function (`datetime.now`) so each row gets a new value\n",
    "\n",
    "We can override the defaults with a fixed value:"
   ]
  },
  {
   "cell_type": "code",
   "execution_count": 31,
   "metadata": {},
   "outputs": [
    {
     "name": "stdout",
     "output_type": "stream",
     "text": [
      "\"production run\", 17, 2017-01-31 00:00:00, , \"Unit\", 143\n"
     ]
    }
   ],
   "source": [
    "BaseElements.key_part3 = datetime(2017, 1, 31)\n",
    "print(row(ShortTable(143)))"
   ]
  },
  {
   "cell_type": "markdown",
   "metadata": {},
   "source": [
    "The `_clear()` function resets everything *in the target class* back to defaults."
   ]
  },
  {
   "cell_type": "code",
   "execution_count": 32,
   "metadata": {},
   "outputs": [
    {
     "name": "stdout",
     "output_type": "stream",
     "text": [
      ", , 2018-03-17 15:01:04.690232, , \"Unit\", 12\n"
     ]
    }
   ],
   "source": [
    "BaseElements._clear()\n",
    "print(row(ShortTable(12)))"
   ]
  },
  {
   "cell_type": "markdown",
   "metadata": {},
   "source": [
    "DynProps values can be fixed values, functions (`f() -> object`) or methods (`f(self) -> object`).  The first \n",
    "(and only) argument must be \"self\" in the second case.\n",
    "\n",
    "The `Parent` tag identifies where the parent properties appear.  The default is before the children, but they can\n",
    "appear after or even in the middle:"
   ]
  },
  {
   "cell_type": "code",
   "execution_count": 33,
   "metadata": {},
   "outputs": [
    {
     "name": "stdout",
     "output_type": "stream",
     "text": [
      "val_part3, key_part1, key_part2, key_part3, key_part4, val_part1, val_part2, val_part4\n",
      "\"@\", \"Production Run\", 1001743, 2018-03-17 15:01:04.714837, , \"Unit\", 42, 84\n",
      "\"@\", \"Production Run\", 1001743, 2018-03-17 15:01:04.716184, , \"Unit\", 42, 84\n"
     ]
    }
   ],
   "source": [
    "class MedTable(ShortTable):\n",
    "    val_part3: Local[str] = \"@\"\n",
    "    _: Parent\n",
    "    val_part4: Local[int] = lambda self: self.val_part2 * 2\n",
    "\n",
    "BaseElements.key_part1 = \"Production Run\"\n",
    "BaseElements.key_part2 = 1001743\n",
    "BaseElements.key_part3 = datetime.now\n",
    "        \n",
    "mt = MedTable(42)\n",
    "print(heading(mt))\n",
    "print(row(mt))\n",
    "print(row(mt))"
   ]
  },
  {
   "cell_type": "markdown",
   "metadata": {},
   "source": [
    "### Dynamic Properties as dictionaries\n",
    "The `as_dict` function returns an ordered dictionary representation of a `DynProps` instance"
   ]
  },
  {
   "cell_type": "code",
   "execution_count": 34,
   "metadata": {},
   "outputs": [
    {
     "name": "stdout",
     "output_type": "stream",
     "text": [
      "val_part3: @\n",
      "key_part1: Production Run\n",
      "key_part2: 1001743\n",
      "key_part3: 2018-03-17 15:01:04.726471\n",
      "key_part4: None\n",
      "val_part1: Unit\n",
      "val_part2: 42\n",
      "val_part4: 84\n"
     ]
    }
   ],
   "source": [
    "for k, v in as_dict(mt).items():\n",
    "    print(f\"{k}: {v}\")"
   ]
  },
  {
   "cell_type": "markdown",
   "metadata": {},
   "source": [
    "### Additional features\n",
    "* **`DynProps._sql_string_delimiter`** - the delimiter to be used in `row` representation. Default: `'\"'`\n",
    "* **`DynProps._sql_string_delimiter_escape`** - escape character for an embedded string.  Default: `r'\\\"'`.  You may need\n",
    "to set this to `'\"\"'` for Oracle implementations\n",
    "* **`DynProps._sql_null_text`** - representation for null (Python: `None`) in `row`.  Default is an empty string (`''`)\n",
    "* **`DynProps._separator`** - `heading` and `row` separator.  Default is a tab (`'\\t'`)"
   ]
  },
  {
   "cell_type": "markdown",
   "metadata": {},
   "source": [
    "## Undone tasks\n",
    "\n",
    "1) The typing within the `Global` and `Local` elements is not directly exposed.  We need to re-write the `__annotation__` elements in the constructor to allow IDE type checking.\n",
    "\n",
    "2) Typing is generally ignored.  Strings are always quoted, integers are not.  We could get considerably more clever here\n",
    "\n",
    "3) SQL value escaping is minimal -- the `row` functions, in particular, need to take full advantage of SQL library escaping\n",
    "\n",
    "4) There are no SQL injection protections in this module. May not be needed, but should be at least discussed"
   ]
  }
 ],
 "metadata": {
  "kernelspec": {
   "display_name": "Python 3",
   "language": "python",
   "name": "python3"
  },
  "language_info": {
   "codemirror_mode": {
    "name": "ipython",
    "version": 3
   },
   "file_extension": ".py",
   "mimetype": "text/x-python",
   "name": "python",
   "nbconvert_exporter": "python",
   "pygments_lexer": "ipython3",
   "version": "3.6.3"
  }
 },
 "nbformat": 4,
 "nbformat_minor": 1
}
